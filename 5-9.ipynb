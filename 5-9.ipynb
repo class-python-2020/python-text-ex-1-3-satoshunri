{
 "metadata": {
  "language_info": {
   "codemirror_mode": {
    "name": "ipython",
    "version": 3
   },
   "file_extension": ".py",
   "mimetype": "text/x-python",
   "name": "python",
   "nbconvert_exporter": "python",
   "pygments_lexer": "ipython3",
   "version": "3.8.2-final"
  },
  "orig_nbformat": 2,
  "kernelspec": {
   "name": "python_defaultSpec_1598050225543",
   "display_name": "Python 3.8.2 32-bit"
  }
 },
 "nbformat": 4,
 "nbformat_minor": 2,
 "cells": [
  {
   "cell_type": "code",
   "execution_count": 2,
   "metadata": {
    "tags": []
   },
   "outputs": [
    {
     "output_type": "stream",
     "name": "stdout",
     "text": "1 one\n2 two\n3 three\n"
    }
   ],
   "source": [
    "intdict = {'1': 'one', '2': 'two', '3': 'three'}\n",
    "for key, val in intdict.items():\n",
    "    print(key,val)"
   ]
  },
  {
   "cell_type": "code",
   "execution_count": 3,
   "metadata": {
    "tags": []
   },
   "outputs": [
    {
     "output_type": "stream",
     "name": "stdout",
     "text": "0 fuji\n1 kitadake\n2 okuhodakadake\n"
    }
   ],
   "source": [
    "mountains = ['fuji','kitadake','okuhodakadake']\n",
    "for i, mt in enumerate(mountains):\n",
    "    print(i,mt)"
   ]
  },
  {
   "cell_type": "code",
   "execution_count": 4,
   "metadata": {
    "tags": []
   },
   "outputs": [
    {
     "output_type": "stream",
     "name": "stdout",
     "text": "1 fuji 3776\n2 kitadake 3193\n3 okuhodakadake 3190\n"
    }
   ],
   "source": [
    "order = [1,2,3]\n",
    "mountains = ['fuji','kitadake','okuhodakadake']\n",
    "height = [3776,3193,3190]\n",
    "for odr,mt,ht in zip(order,mountains,height):\n",
    "    print(odr,mt,ht) "
   ]
  },
  {
   "cell_type": "code",
   "execution_count": 5,
   "metadata": {
    "tags": []
   },
   "outputs": [
    {
     "output_type": "stream",
     "name": "stdout",
     "text": "fuji\nkitadake\nokuhodakadake\n"
    }
   ],
   "source": [
    "mountains = ['kitadake','okuhodakadake','fuji']\n",
    "for mt in sorted(mountains):\n",
    "    print(mt)"
   ]
  },
  {
   "cell_type": "code",
   "execution_count": 6,
   "metadata": {
    "tags": []
   },
   "outputs": [
    {
     "output_type": "stream",
     "name": "stdout",
     "text": "okuhodakadake\nkitadake\nfuji\n"
    }
   ],
   "source": [
    "mountains = ['fuji','kitadake','okuhodakadake']\n",
    "for mt in reversed(mountains):\n",
    "    print(mt)"
   ]
  },
  {
   "cell_type": "code",
   "execution_count": 8,
   "metadata": {
    "tags": []
   },
   "outputs": [
    {
     "output_type": "stream",
     "name": "stdout",
     "text": "fuji 3776\nkitadake 3193\nokuhodakadake 3190\n"
    }
   ],
   "source": [
    "mountain_in_japan = {'fuji':3776, 'kitadake': 3193, 'okuhodakadake':3190}\n",
    "mountain_in_japan_sorted = sorted(mountain_in_japan.items(),key=lambda x: x[0])\n",
    "for key, val in mountain_in_japan_sorted:\n",
    "    print(key,val)"
   ]
  },
  {
   "cell_type": "code",
   "execution_count": 9,
   "metadata": {
    "tags": []
   },
   "outputs": [
    {
     "output_type": "stream",
     "name": "stdout",
     "text": "okuhodakadake 3190\nkitadake 3193\nfuji 3776\n"
    }
   ],
   "source": [
    "mountain_in_japan = {'fuji':3776, 'kitadake': 3193, 'okuhodakadake':3190}\n",
    "mountain_in_japan_sorted = sorted(mountain_in_japan.items(),key=lambda x: x[1])\n",
    "for key, val in mountain_in_japan_sorted:\n",
    "    print(key,val)"
   ]
  },
  {
   "cell_type": "code",
   "execution_count": 10,
   "metadata": {
    "tags": []
   },
   "outputs": [
    {
     "output_type": "stream",
     "name": "stdout",
     "text": "fuji 3776\nkitadake 3193\nokuhodakadake 3190\n"
    }
   ],
   "source": [
    "for key,val in reversed(mountain_in_japan_sorted):\n",
    "    print(key,val)"
   ]
  },
  {
   "cell_type": "code",
   "execution_count": 11,
   "metadata": {
    "tags": []
   },
   "outputs": [
    {
     "output_type": "stream",
     "name": "stdout",
     "text": "[('fuji', 3776), ('kitadake', 3193), ('okuhodakadake', 3190), ('dummy', 0)]\n"
    }
   ],
   "source": [
    "mountain_in_japan = {'fuji':3776, 'kitadake': 3193, 'okuhodakadake':3190, 'dummy': 0}\n",
    "mountain_in_japan_sorted = sorted(mountain_in_japan.items(),\n",
    "key=lambda x: x[1],reverse=True)\n",
    "print(mountain_in_japan_sorted)"
   ]
  }
 ]
}