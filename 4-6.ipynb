{
 "metadata": {
  "language_info": {
   "codemirror_mode": {
    "name": "ipython",
    "version": 3
   },
   "file_extension": ".py",
   "mimetype": "text/x-python",
   "name": "python",
   "nbconvert_exporter": "python",
   "pygments_lexer": "ipython3",
   "version": "3.8.2-final"
  },
  "orig_nbformat": 2,
  "kernelspec": {
   "name": "python_defaultSpec_1597830724346",
   "display_name": "Python 3.8.2 32-bit"
  }
 },
 "nbformat": 4,
 "nbformat_minor": 2,
 "cells": [
  {
   "cell_type": "code",
   "execution_count": 1,
   "metadata": {
    "tags": []
   },
   "outputs": [
    {
     "output_type": "stream",
     "name": "stdout",
     "text": "100\n"
    }
   ],
   "source": [
    "#今までの関数定義\n",
    "def square(x):\n",
    "    '''与えられた数値の２乗を返す'''\n",
    "    return x ** 2\n",
    "print(square(10))"
   ]
  },
  {
   "cell_type": "code",
   "execution_count": 2,
   "metadata": {
    "tags": []
   },
   "outputs": [
    {
     "output_type": "stream",
     "name": "stdout",
     "text": "100\n"
    }
   ],
   "source": [
    "#ラムダ式の関数定義\n",
    "sq_func = lambda x: x ** 2\n",
    "\n",
    "print(sq_func(10))"
   ]
  },
  {
   "cell_type": "code",
   "execution_count": 3,
   "metadata": {
    "tags": []
   },
   "outputs": [
    {
     "output_type": "stream",
     "name": "stdout",
     "text": "文字列リスト: ['No.1', 'No.2', 'No.3', 'No.4', 'No.5', 'No.6', 'No.7', 'No.8', 'No.9', 'No.10']\n"
    }
   ],
   "source": [
    "i_num_list = range(1,11)\n",
    "s_num_list = list(map(lambda i: \"No.\" + str(i),i_num_list))\n",
    "print(\"文字列リスト:\", s_num_list)"
   ]
  },
  {
   "cell_type": "code",
   "execution_count": 5,
   "metadata": {
    "tags": []
   },
   "outputs": [
    {
     "output_type": "stream",
     "name": "stdout",
     "text": "No.1 No.2 No.3 No.4 No.5 No.6 No.7 No.8 No.9 No.10"
    }
   ],
   "source": [
    "#数値を文字にして変換して修飾します\n",
    "for s in map(lambda i: \"No.\" + str(i),range(1,11)):\n",
    "    print(s, end=\" \")"
   ]
  },
  {
   "cell_type": "code",
   "execution_count": 6,
   "metadata": {
    "tags": []
   },
   "outputs": [
    {
     "output_type": "stream",
     "name": "stdout",
     "text": "2 4 6 8 10"
    }
   ],
   "source": [
    "#偶数だけを取得します\n",
    "for e in filter(lambda i: i%2==0, range(1,11)):\n",
    "    print(e,end=\" \")"
   ]
  },
  {
   "cell_type": "code",
   "execution_count": 7,
   "metadata": {
    "tags": []
   },
   "outputs": [
    {
     "output_type": "stream",
     "name": "stdout",
     "text": "2 4 6 8 10"
    }
   ],
   "source": [
    "def is_even(x):\n",
    "    '''偶数なら　True'''\n",
    "    return x % 2 == 0\n",
    "\n",
    "#偶数だけ取得します\n",
    "for e in filter(is_even, range(1,11)):\n",
    "    print(e,end=\" \")"
   ]
  },
  {
   "cell_type": "code",
   "execution_count": 8,
   "metadata": {
    "tags": []
   },
   "outputs": [
    {
     "output_type": "stream",
     "name": "stdout",
     "text": "[(2, 'down'), (1, 'up'), (4, 'charm'), (3, 'strange'), (6, 'top'), (5, 'bottom')]\n"
    }
   ],
   "source": [
    "pairs = [(2,'down'),(1,'up'),(4,'charm'),(3,'strange'),(6,'top'),(5,'bottom')]\n",
    "print(pairs)"
   ]
  },
  {
   "cell_type": "code",
   "execution_count": 9,
   "metadata": {
    "tags": []
   },
   "outputs": [
    {
     "output_type": "stream",
     "name": "stdout",
     "text": "[(1, 'up'), (2, 'down'), (3, 'strange'), (4, 'charm'), (5, 'bottom'), (6, 'top')]\n"
    }
   ],
   "source": [
    "pairs.sort()\n",
    "print(pairs)"
   ]
  },
  {
   "cell_type": "code",
   "execution_count": 10,
   "metadata": {
    "tags": []
   },
   "outputs": [
    {
     "output_type": "stream",
     "name": "stdout",
     "text": "[(5, 'bottom'), (4, 'charm'), (2, 'down'), (3, 'strange'), (6, 'top'), (1, 'up')]\n"
    }
   ],
   "source": [
    "pairs.sort(key=lambda x: x[1])\n",
    "print(pairs)"
   ]
  },
  {
   "cell_type": "code",
   "execution_count": 11,
   "metadata": {
    "tags": []
   },
   "outputs": [
    {
     "output_type": "stream",
     "name": "stdout",
     "text": "[(1, 'up'), (6, 'top'), (3, 'strange'), (2, 'down'), (4, 'charm'), (5, 'bottom')]\n"
    }
   ],
   "source": [
    "pairs.sort(key=lambda x: x[1],reverse=True)\n",
    "print(pairs)"
   ]
  },
  {
   "cell_type": "code",
   "execution_count": 12,
   "metadata": {},
   "outputs": [
    {
     "output_type": "execute_result",
     "data": {
      "text/plain": "'odd'"
     },
     "metadata": {},
     "execution_count": 12
    }
   ],
   "source": [
    "n = 3\n",
    "func = lambda n: \"even\" if (n % 2 == 0) else \"odd\"\n",
    "func(n)"
   ]
  },
  {
   "cell_type": "code",
   "execution_count": 13,
   "metadata": {
    "tags": []
   },
   "outputs": [
    {
     "output_type": "stream",
     "name": "stdout",
     "text": "odd\n"
    }
   ],
   "source": [
    "n = 3\n",
    "x = \"even\" if (n % 2 == 0) else \"odd\"\n",
    "print(x)"
   ]
  },
  {
   "cell_type": "code",
   "execution_count": 16,
   "metadata": {},
   "outputs": [
    {
     "output_type": "execute_result",
     "data": {
      "text/plain": "<map at 0x6fb4ec8>"
     },
     "metadata": {},
     "execution_count": 16
    }
   ],
   "source": [
    "str_num_list = map(lambda x: \"{:04}\".format(x),range(1,8))\n",
    "str_num_list"
   ]
  },
  {
   "cell_type": "code",
   "execution_count": 17,
   "metadata": {
    "tags": []
   },
   "outputs": [
    {
     "output_type": "stream",
     "name": "stdout",
     "text": "['0001', '0002', '0003', '0004', '0005', '0006', '0007']\n"
    }
   ],
   "source": [
    "#実行例\n",
    "print(list(str_num_list))"
   ]
  },
  {
   "cell_type": "code",
   "execution_count": 31,
   "metadata": {
    "tags": []
   },
   "outputs": [
    {
     "output_type": "stream",
     "name": "stdout",
     "text": "i, name, height, weight\n0 n24 156 62\n1 n41 175 61\n...\n9 n28 171 75\n"
    }
   ],
   "source": [
    "def generate_students_data(num_students=10):\n",
    "    '''生徒名、身長、体重からなるデータをランダムに生成する\n",
    "\n",
    "    引数　: num_students: 生徒の人数をとる\n",
    "    戻り　: num_students個のタプル　（生徒名、身長、体重）からなるリスト\n",
    "\n",
    "    データの内容\n",
    "    　生徒名　'nXX', XX　は10から50の番号\n",
    "    　身長　150‐190　㎝　からランダムに選んだ値\n",
    "    　体重　50‐80　kg　からランダム選んだ値\n",
    "    '''\n",
    "    students_data =[]\n",
    "    for i in range(num_students):\n",
    "        name = 'n' + str(random.randint(10,50))\n",
    "        height = random.randint(150,190)\n",
    "        weight = random.randint(50,80)\n",
    "        students_data.append((name,height,weight))\n",
    "        if i ==0: print('i, name, height, weight')\n",
    "        if i < 2 or i == num_students - 1:\n",
    "            print(i,name,height,weight)\n",
    "        elif i == 2:\n",
    "            print('...')\n",
    "    return students_data\n",
    "\n",
    "students_data = generate_students_data(10)"
   ]
  },
  {
   "cell_type": "code",
   "execution_count": 32,
   "metadata": {},
   "outputs": [
    {
     "output_type": "execute_result",
     "data": {
      "text/plain": "[('n24', 156, 62),\n ('n41', 175, 61),\n ('n26', 176, 57),\n ('n30', 180, 53),\n ('n35', 164, 66),\n ('n17', 172, 58),\n ('n20', 175, 51),\n ('n38', 180, 64),\n ('n48', 179, 67),\n ('n28', 171, 75)]"
     },
     "metadata": {},
     "execution_count": 32
    }
   ],
   "source": [
    "students_data"
   ]
  },
  {
   "cell_type": "code",
   "execution_count": 33,
   "metadata": {},
   "outputs": [],
   "source": [
    "students_by_height = sorted(students_data,key=lambda s: s[1])\n",
    "students_by_weight = sorted(students_data,key=lambda s: s[2])"
   ]
  },
  {
   "cell_type": "code",
   "execution_count": 34,
   "metadata": {
    "tags": []
   },
   "outputs": [
    {
     "output_type": "stream",
     "name": "stdout",
     "text": "\nSort by height\n('n24', 156, 62)\n('n35', 164, 66)\n('n28', 171, 75)\n('n17', 172, 58)\n('n41', 175, 61)\n('n20', 175, 51)\n('n26', 176, 57)\n('n48', 179, 67)\n('n30', 180, 53)\n('n38', 180, 64)\n"
    }
   ],
   "source": [
    "print('\\nSort by height')\n",
    "for student in students_by_height:\n",
    "    print(student)"
   ]
  },
  {
   "cell_type": "code",
   "execution_count": 35,
   "metadata": {
    "tags": []
   },
   "outputs": [
    {
     "output_type": "stream",
     "name": "stdout",
     "text": "\nSort by weight\n('n20', 175, 51)\n('n30', 180, 53)\n('n26', 176, 57)\n('n17', 172, 58)\n('n41', 175, 61)\n('n24', 156, 62)\n('n38', 180, 64)\n('n35', 164, 66)\n('n48', 179, 67)\n('n28', 171, 75)\n"
    }
   ],
   "source": [
    "print('\\nSort by weight')\n",
    "for student in students_by_weight:\n",
    "    print(student)"
   ]
  }
 ]
}